{
 "cells": [
  {
   "cell_type": "markdown",
   "metadata": {},
   "source": [
    "<img src=\"http://mint-project.info/assets/images/mint-logo-vertical.png\"  alt=\"Example\" width=\"50\" height=\"50\" align=\"left\" hspace=\"200\" hspace=\"200\">\n",
    "\n",
    "# Flood Severity Index\n",
    "\n",
    "FSI (Flood Severity Index)represents the return period of a fllod (2-yr, 5-yr, 20-yr) expressed from the runoff data from Global Flood Awareness System ([GLOFAS](https://www.globalfloods.eu)).  "
   ]
  },
  {
   "cell_type": "code",
   "execution_count": null,
   "metadata": {},
   "outputs": [],
   "source": []
  },
  {
   "cell_type": "code",
   "execution_count": null,
   "metadata": {},
   "outputs": [],
   "source": []
  }
 ],
 "metadata": {
  "kernelspec": {
   "display_name": "Python 3",
   "language": "python",
   "name": "python3"
  },
  "language_info": {
   "codemirror_mode": {
    "name": "ipython",
    "version": 3
   },
   "file_extension": ".py",
   "mimetype": "text/x-python",
   "name": "python",
   "nbconvert_exporter": "python",
   "pygments_lexer": "ipython3",
   "version": "3.7.5"
  }
 },
 "nbformat": 4,
 "nbformat_minor": 2
}
